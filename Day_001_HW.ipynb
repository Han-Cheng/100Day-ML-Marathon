{
 "cells": [
  {
   "cell_type": "markdown",
   "metadata": {},
   "source": [
    "# 作業一"
   ]
  },
  {
   "cell_type": "markdown",
   "metadata": {},
   "source": [
    "請上 Kaggle, 在 Competitions 或 Dataset 中找一組競賽或資料並寫下：\n",
    "\n",
    "1. 你選的這組資料為何重要\n",
    "    Ans: \n",
    "    我選擇的資料來源為: https://www.kaggle.com/c/competitive-data-science-predict-future-sales\n",
    "    此數據為某公司之產品銷售業務資料, 對於一家公司來說, 產品銷售狀況的相關資訊是至關重要, 是為企業的核⼼問題. \n",
    "    另一方面, 也可以進一步探討新、舊產品銷售的好壞、不同季度的成長或衰退、客戶喜好的變化等相關議題,\n",
    "    然後企業再採取對應的改善、成長等策略.\n",
    "\n",
    "2. 資料從何而來 (tips: 譬如提供者是誰、以什麼方式蒐集)\n",
    "    Ans: \n",
    "    此資料來源為Russian software firms - 1C Company, 為該公司每日的產品銷售歷史紀錄.\n",
    "    蒐集方式可能為實體通路(shop)上, 消費者消費購物後, 資料即載入該公司之銷售管理系統(購物⾞紀錄). \n",
    "\n",
    "3. 蒐集而來的資料型態為何\n",
    "    Ans:\n",
    "    此為結構化資料，其包含6個csv表單，共11個變數欄位，包含ID、shop_id、item_id、...。\n",
    "\n",
    "4. 這組資料想解決的問題如何評估\n",
    "    Ans:\n",
    "    此資料之目的在用於預測下個月份之總產品銷售量，\n",
    "    我們可用迴歸模型方式思考，可採用root mean squared error(RMSE)或mean squared error(MSE)等指標,\n",
    "    來判斷預測值整體平均與實際值的差異.\n"
   ]
  },
  {
   "cell_type": "markdown",
   "metadata": {},
   "source": [
    "# 作業二"
   ]
  },
  {
   "cell_type": "markdown",
   "metadata": {},
   "source": [
    "想像你經營一個自由載客車隊，你希望能透過數據分析以提升業績，請你思考並描述你如何規劃整體的分析/解決方案：\n",
    "\n",
    "1. 核心問題為何 (tips：如何定義 「提升業績 & 你的假設」)\n",
    "    Ans:\n",
    "    假設每月載客量即為公司之業績指標, 且無其他營利管道.\n",
    "    透過數據分析, 提升下個月的載客量, 預期目標為增加10%載客量.\n",
    "\n",
    "2. 資料從何而來 (tips：哪些資料可能會對你想問的問題產生影響 & 資料如何蒐集)\n",
    "    Ans:\n",
    "    資料來源為各車隊的載客人數回報, 包含載客時間點(包含上下車時間、日期)、載客地點、落客地點、交通總時間、交通里程數、當班載客人數等資料;\n",
    "    收集方式為藉由公司開發之行車監視系統, 直接辨識每次載客的人數、上下車之時間,\n",
    "    且系統另紀錄車子位置、行走里程數等資訊.\n",
    "\n",
    "3. 蒐集而來的資料型態為何\n",
    "    Ans:\n",
    "    為結構化資料,包含載客上車時間點、載客下車時間點、載客上車地點、載客下車地點、交通總時間、交通里程數、當班載客人數等欄位資料.\n",
    "\n",
    "4. 你要回答的問題，其如何評估 (tips：你的假設如何驗證)\n",
    "    Ans:\n",
    "    藉由累積足夠資料後, 判斷較為尖峰或熱鬧的載客時間點、地點與行程, 並安排額外的車隊去進行載客服務;\n",
    "    對於離峰或不熱鬧的時間、地點, 則安排較少的車隊去進行載客服務.\n",
    "    此外, 也藉由數據分析, 建立預測模型來預測哪個時間在哪個地區會有相關多少的載客人數,\n",
    "    可用RMSE作為指標來判斷預測值與實際值的總誤差平均, 來得到足夠效度、信度的模型, 作為我們服務的依據之一.\n"
   ]
  },
  {
   "cell_type": "markdown",
   "metadata": {},
   "source": [
    "# 作業三"
   ]
  },
  {
   "cell_type": "markdown",
   "metadata": {},
   "source": [
    "## 練習時間\n",
    "#### 請寫一個函式用來計算 Mean Square Error\n",
    "$ MSE = \\frac{1}{n}\\sum_{i=1}^{n}{(Y_i - \\hat{Y}_i)^2} $\n",
    "\n",
    "### Hint: [如何取平方](https://googoodesign.gitbooks.io/-ezpython/unit-1.html)"
   ]
  },
  {
   "cell_type": "code",
   "execution_count": 2,
   "metadata": {},
   "outputs": [],
   "source": [
    "import numpy as np\n",
    "import matplotlib.pyplot as plt"
   ]
  },
  {
   "cell_type": "code",
   "execution_count": 14,
   "metadata": {},
   "outputs": [],
   "source": [
    "def mean_squared_error(y, yp):\n",
    "    \"\"\"\n",
    "    計算MSE\n",
    "    Args:\n",
    "        - y:實際值\n",
    "        - yp:預測值\n",
    "    Return:\n",
    "        - mse: MSE\n",
    "    \"\"\"\n",
    "    mse = MSE = sum(pow((y-yp),2)) / len(y)\n",
    "    return mse"
   ]
  },
  {
   "cell_type": "code",
   "execution_count": 15,
   "metadata": {},
   "outputs": [],
   "source": [
    "def mean_absolute_error(y, yp):\n",
    "    \"\"\"\n",
    "    計算 MAE\n",
    "    Args:\n",
    "        - y: 實際值\n",
    "        - yp: 預測值\n",
    "    Return:\n",
    "        - mae: MAE\n",
    "    \"\"\"\n",
    "    mae = MAE = sum(abs(y - yp)) / len(y)\n",
    "    return mae"
   ]
  },
  {
   "cell_type": "code",
   "execution_count": 16,
   "metadata": {},
   "outputs": [
    {
     "data": {
      "image/png": "[encoded data removed]",
      "text/plain": [
       "<Figure size 432x288 with 1 Axes>"
      ]
     },
     "metadata": {},
     "output_type": "display_data"
    }
   ],
   "source": [
    "w = 3\n",
    "b = 0.5\n",
    "\n",
    "x_lin = np.linspace(0, 100, 101)\n",
    "\n",
    "y = (x_lin + np.random.randn(101) * 5) * w + b\n",
    "\n",
    "plt.plot(x_lin, y, 'b.', label = 'data points')\n",
    "plt.title(\"Assume we have data points\")\n",
    "plt.legend(loc = 2)\n",
    "plt.show()"
   ]
  },
  {
   "cell_type": "code",
   "execution_count": 17,
   "metadata": {},
   "outputs": [
    {
     "data": {
      "image/png": "[encoded data removed]",
      "text/plain": [
       "<Figure size 432x288 with 1 Axes>"
      ]
     },
     "metadata": {},
     "output_type": "display_data"
    }
   ],
   "source": [
    "y_hat = x_lin * w + b\n",
    "plt.plot(x_lin, y, 'b.', label = 'data')\n",
    "plt.plot(x_lin, y_hat, 'r-', label = 'prediction')\n",
    "plt.title(\"Assume we have data points (And the prediction)\")\n",
    "plt.legend(loc = 2)\n",
    "plt.show()"
   ]
  },
  {
   "cell_type": "code",
   "execution_count": 18,
   "metadata": {},
   "outputs": [
    {
     "name": "stdout",
     "output_type": "stream",
     "text": [
      "The Mean squared error is 242.611\n",
      "The Mean absolute error is 12.676\n"
     ]
    }
   ],
   "source": [
    "# 執行 Function, 確認有沒有正常執行\n",
    "MSE = mean_squared_error(y, y_hat)\n",
    "MAE = mean_absolute_error(y, y_hat)\n",
    "print(\"The Mean squared error is %.3f\" % (MSE))\n",
    "print(\"The Mean absolute error is %.3f\" % (MAE))"
   ]
  },
  {
   "cell_type": "code",
   "execution_count": null,
   "metadata": {},
   "outputs": [],
   "source": []
  }
 ],
 "metadata": {
  "anaconda-cloud": {},
  "kernelspec": {
   "display_name": "Python 3",
   "language": "python",
   "name": "python3"
  },
  "language_info": {
   "codemirror_mode": {
    "name": "ipython",
    "version": 3
   },
   "file_extension": ".py",
   "mimetype": "text/x-python",
   "name": "python",
   "nbconvert_exporter": "python",
   "pygments_lexer": "ipython3",
   "version": "3.6.5"
  }
 },
 "nbformat": 4,
 "nbformat_minor": 1
}
